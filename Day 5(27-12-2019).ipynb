{
 "cells": [
  {
   "cell_type": "code",
   "execution_count": 3,
   "metadata": {},
   "outputs": [
    {
     "name": "stdout",
     "output_type": "stream",
     "text": [
      "python123is456good789\n",
      "9\n"
     ]
    }
   ],
   "source": [
    "#count no.of digits in the given string\n",
    "#input\"python123is45good789\"\n",
    "#output:9\n",
    "s=input()\n",
    "i=0\n",
    "count=0\n",
    "while i<len(s):\n",
    "    if s[i].isdigit():\n",
    "        count +=1\n",
    "    i +=1\n",
    "print(count)   "
   ]
  },
  {
   "cell_type": "code",
   "execution_count": 11,
   "metadata": {},
   "outputs": [
    {
     "name": "stdout",
     "output_type": "stream",
     "text": [
      "python123is45good789\n",
      "count is: 8 sum of digits is: 39\n"
     ]
    }
   ],
   "source": [
    "#count no.of digits in the given string\n",
    "#input\"python123is456good789\"\n",
    "#output:9\n",
    "s=input()\n",
    "i=0\n",
    "count=0\n",
    "sum =0\n",
    "while i<len(s):\n",
    "    if s[i].isdigit():\n",
    "        count += 1\n",
    "        sum += int(s[i])\n",
    "    i += 1\n",
    "print(\"count is:\",count,\"sum of digits is:\",sum)    "
   ]
  },
  {
   "cell_type": "code",
   "execution_count": 1,
   "metadata": {},
   "outputs": [
    {
     "name": "stdout",
     "output_type": "stream",
     "text": [
      "enter a number5\n",
      "1 2 3 4 5 "
     ]
    }
   ],
   "source": [
    "#for loop\n",
    "#1.using range()\n",
    "#2.using Iterable object\n",
    "n=int(input(\"enter a number\"))\n",
    "for i in range(1,n+1):\n",
    "    print(i,end=\" \")"
   ]
  },
  {
   "cell_type": "code",
   "execution_count": 4,
   "metadata": {},
   "outputs": [
    {
     "name": "stdout",
     "output_type": "stream",
     "text": [
      "python\n",
      "p y t h o n \n",
      "p y t h o n "
     ]
    }
   ],
   "source": [
    "#input:python\n",
    "#output:p y t h o n\n",
    "s=input()\n",
    "i=0\n",
    "while i<len(s):\n",
    "    print(s[i],end=\" \")\n",
    "    i+=1\n",
    "print()    \n",
    "for i in range(0,len(s)):\n",
    "    print(s[i],end=\" \")"
   ]
  },
  {
   "cell_type": "markdown",
   "metadata": {},
   "source": [
    "## collection type data types\n",
    "list:\n",
    "1.for creating a list use\n",
    "2.list are mutable\n",
    "3.list are involved\n",
    "4.list are ordered\n",
    "5.list allows duplicate values\n",
    "6.it stores heterogeneous values"
   ]
  },
  {
   "cell_type": "code",
   "execution_count": 14,
   "metadata": {},
   "outputs": [
    {
     "name": "stdout",
     "output_type": "stream",
     "text": [
      "[1, 2, 3]\n",
      "[456, 56]\n",
      "gnirts\n",
      "3\n"
     ]
    }
   ],
   "source": [
    "list1=[23,24,456,56,67,\"string\",True,[1,2,3]]\n",
    "print(list1[-1])\n",
    "print(list1[2:4])\n",
    "print(list1[-3][::-1])\n",
    "print(list1[-1][-1])"
   ]
  },
  {
   "cell_type": "code",
   "execution_count": 15,
   "metadata": {},
   "outputs": [
    {
     "name": "stdout",
     "output_type": "stream",
     "text": [
      "before adding elements: [34, 45, 56, 67]\n",
      "after adding elements: [34, 45, 56, 67, 100, 200, 300]\n"
     ]
    }
   ],
   "source": [
    "#manipulating a list\n",
    "#1.adding elements\n",
    "list1=[34,45,56,67]\n",
    "print(\"before adding elements:\",list1)\n",
    "list1.append(100)\n",
    "list1.append(200)\n",
    "list1.append(300)\n",
    "print(\"after adding elements:\",list1)"
   ]
  },
  {
   "cell_type": "code",
   "execution_count": 23,
   "metadata": {},
   "outputs": [
    {
     "data": {
      "text/plain": [
       "[34, 400, 56, 100, 200]"
      ]
     },
     "execution_count": 23,
     "metadata": {},
     "output_type": "execute_result"
    }
   ],
   "source": [
    "list1.insert(1,400)\n",
    "list1"
   ]
  },
  {
   "cell_type": "code",
   "execution_count": 24,
   "metadata": {},
   "outputs": [
    {
     "name": "stdout",
     "output_type": "stream",
     "text": [
      "[34, 400, 100, 200]\n"
     ]
    }
   ],
   "source": [
    "#removing elements from the list-->pop(),remove(),clear()\n",
    "#list1.pop(5)\n",
    "list1.remove(56)\n",
    "print(list1)"
   ]
  },
  {
   "cell_type": "code",
   "execution_count": 25,
   "metadata": {},
   "outputs": [
    {
     "data": {
      "text/plain": [
       "[34, 1000, 100, 200]"
      ]
     },
     "execution_count": 25,
     "metadata": {},
     "output_type": "execute_result"
    }
   ],
   "source": [
    "#replace an element\n",
    "list1[1]=1000\n",
    "list1"
   ]
  },
  {
   "cell_type": "code",
   "execution_count": 28,
   "metadata": {},
   "outputs": [
    {
     "data": {
      "text/plain": [
       "[2, 7, 34, 45, 56, 67, 68, 79]"
      ]
     },
     "execution_count": 28,
     "metadata": {},
     "output_type": "execute_result"
    }
   ],
   "source": [
    "#sorting a list\n",
    "list1=[34,56,7,68,79,2,45,67]\n",
    "list1.sort()\n",
    "list1"
   ]
  },
  {
   "cell_type": "code",
   "execution_count": 4,
   "metadata": {},
   "outputs": [
    {
     "data": {
      "text/plain": [
       "[67, 45, 2, 79, 68, 7, 56, 34]"
      ]
     },
     "execution_count": 4,
     "metadata": {},
     "output_type": "execute_result"
    }
   ],
   "source": [
    "#reversing a list\n",
    "list1=[34,56,7,68,79,2,45,67]\n",
    "list1.reverse()\n",
    "list1"
   ]
  },
  {
   "cell_type": "code",
   "execution_count": 5,
   "metadata": {},
   "outputs": [
    {
     "data": {
      "text/plain": [
       "1"
      ]
     },
     "execution_count": 5,
     "metadata": {},
     "output_type": "execute_result"
    }
   ],
   "source": [
    "list1.count(45)"
   ]
  },
  {
   "cell_type": "code",
   "execution_count": 6,
   "metadata": {},
   "outputs": [
    {
     "name": "stdout",
     "output_type": "stream",
     "text": [
      "[67, 45, 2, 79, 68, 7, 56, 34, 'python']   [67, 45, 2, 79, 68, 7, 56, 34, 'python']\n"
     ]
    }
   ],
   "source": [
    "list1.append(\"python\")\n",
    "list2=list1\n",
    "print(list1,\" \",list2)"
   ]
  },
  {
   "cell_type": "code",
   "execution_count": 10,
   "metadata": {},
   "outputs": [
    {
     "name": "stdout",
     "output_type": "stream",
     "text": [
      "[1, 2, 3]\n"
     ]
    }
   ],
   "source": [
    "l1 = [1,2,3]\n",
    "l2 = l1\n",
    "print(l2)"
   ]
  },
  {
   "cell_type": "code",
   "execution_count": 12,
   "metadata": {},
   "outputs": [
    {
     "name": "stdout",
     "output_type": "stream",
     "text": [
      "[1, 2, 3]\n"
     ]
    }
   ],
   "source": [
    "l1 = [1,2,3]\n",
    "l3 = l1\n",
    "print(l3)"
   ]
  },
  {
   "cell_type": "code",
   "execution_count": 28,
   "metadata": {},
   "outputs": [
    {
     "name": "stdout",
     "output_type": "stream",
     "text": [
      "[2, 4, 5, 7, 8] [4, 16, 25, 49, 64] [4, 16, 25, 49, 64]\n",
      "[2, 4, 5, 7, 8, 100] [4, 16, 25, 49, 64] [4, 16, 25, 49, 64]\n"
     ]
    }
   ],
   "source": [
    "print(l1,l2,l3)\n",
    "l1.append(100)\n",
    "print(l1,l2,l3)"
   ]
  },
  {
   "cell_type": "code",
   "execution_count": 27,
   "metadata": {},
   "outputs": [
    {
     "name": "stdout",
     "output_type": "stream",
     "text": [
      "[4, 16, 25, 49, 64]\n",
      "[4, 16, 25, 49, 64]\n"
     ]
    }
   ],
   "source": [
    "#input:[2,4,5,7,8]\n",
    "#output:[4,16,25,49,64]\n",
    "l1=[2,4,5,7,8]\n",
    "l2=[]\n",
    "l3=[]\n",
    "for i in range(0,len(l1)):\n",
    "    l2.append(l1[i]**2)\n",
    "print(l2)    \n",
    "for i in l1:\n",
    "    l3.append(i**2)\n",
    "print(l3)    "
   ]
  },
  {
   "cell_type": "code",
   "execution_count": 26,
   "metadata": {},
   "outputs": [
    {
     "name": "stdout",
     "output_type": "stream",
     "text": [
      "[1, 1, 1, 1]\n"
     ]
    }
   ],
   "source": [
    "l4=[]\n",
    "for i in l1:\n",
    "    if i%2==0:\n",
    "        l4.append(1)\n",
    "print(l4)        "
   ]
  },
  {
   "cell_type": "code",
   "execution_count": 33,
   "metadata": {},
   "outputs": [
    {
     "name": "stdout",
     "output_type": "stream",
     "text": [
      "1\n",
      "2\n",
      "[2]\n"
     ]
    }
   ],
   "source": [
    "#create a list and accept values of the list at runtime\n",
    "#and print sum of all the elements of the list\n",
    "l1=[]\n",
    "n=int(input())\n",
    "for i in range(n):\n",
    "    l1.append(int(input()))\n",
    "print(l1)"
   ]
  },
  {
   "cell_type": "code",
   "execution_count": 34,
   "metadata": {},
   "outputs": [
    {
     "name": "stdout",
     "output_type": "stream",
     "text": [
      "2\n",
      "3\n",
      "4\n",
      "7\n"
     ]
    }
   ],
   "source": [
    "#create a list and accept values of the list at runtime\n",
    "#and print sum of all the elements of the list\n",
    "list1=[]\n",
    "n=int(input())\n",
    "for i in range(n):\n",
    "    list1.append(int(input()))\n",
    "a=sum(list1)\n",
    "print(a)"
   ]
  },
  {
   "cell_type": "code",
   "execution_count": 36,
   "metadata": {},
   "outputs": [
    {
     "name": "stdout",
     "output_type": "stream",
     "text": [
      "[2]\n"
     ]
    }
   ],
   "source": [
    "l4=[]\n",
    "for i in l1:\n",
    "    if i%2==0:\n",
    "        l4.append(i)\n",
    "print(l4)"
   ]
  },
  {
   "cell_type": "code",
   "execution_count": 37,
   "metadata": {},
   "outputs": [
    {
     "name": "stdout",
     "output_type": "stream",
     "text": [
      "(23, 34, 45, 56, 67)\n",
      "<class 'tuple'>\n"
     ]
    }
   ],
   "source": [
    "x=23,34,45,56,67\n",
    "print(x)\n",
    "print(type(x))"
   ]
  },
  {
   "cell_type": "code",
   "execution_count": 38,
   "metadata": {},
   "outputs": [
    {
     "name": "stdout",
     "output_type": "stream",
     "text": [
      "23 34 5\n"
     ]
    }
   ],
   "source": [
    "tup1=(23,34,5)\n",
    "x,y,z=tup1\n",
    "print(x,y,z)"
   ]
  },
  {
   "cell_type": "markdown",
   "metadata": {},
   "source": [
    "### Dictionary\n",
    "### syntax:(key1:value1,key2:value2......) \n",
    "### key\n",
    "1. key should for unique\n",
    "2. key should be imutable-->int,float,string,tuple"
   ]
  },
  {
   "cell_type": "code",
   "execution_count": 39,
   "metadata": {},
   "outputs": [
    {
     "data": {
      "text/plain": [
       "'python'"
      ]
     },
     "execution_count": 39,
     "metadata": {},
     "output_type": "execute_result"
    }
   ],
   "source": [
    "dict1={\"name\":\"sandy\",\"course\":\"python\",\"address\":\"hyd\"}\n",
    "dict1[\"course\"]"
   ]
  },
  {
   "cell_type": "code",
   "execution_count": 40,
   "metadata": {},
   "outputs": [
    {
     "name": "stdout",
     "output_type": "stream",
     "text": [
      "{'name': 'sandy', 'course': 'c programming', 'address': 'hyd'}\n"
     ]
    }
   ],
   "source": [
    "#replace values\n",
    "dict1[\"course\"]=\"c programming\"\n",
    "print(dict1)"
   ]
  },
  {
   "cell_type": "code",
   "execution_count": 41,
   "metadata": {},
   "outputs": [
    {
     "name": "stdout",
     "output_type": "stream",
     "text": [
      "{'name': 'sandy', 'course': 'c programming', 'address': 'hyd', 'college': 'GITAM'}\n"
     ]
    }
   ],
   "source": [
    "#adding entry\n",
    "dict1[\"college\"]=\"GITAM\"\n",
    "print(dict1)"
   ]
  },
  {
   "cell_type": "code",
   "execution_count": 42,
   "metadata": {},
   "outputs": [
    {
     "name": "stdout",
     "output_type": "stream",
     "text": [
      "{'name': 'sandy', 'course': 'c programming', 'college': 'GITAM'}\n"
     ]
    }
   ],
   "source": [
    "#removing entry\n",
    "del dict1[\"address\"]\n",
    "print(dict1)"
   ]
  },
  {
   "cell_type": "code",
   "execution_count": 43,
   "metadata": {},
   "outputs": [
    {
     "data": {
      "text/plain": [
       "'C:\\\\Users\\\\Sandeep Kandur'"
      ]
     },
     "execution_count": 43,
     "metadata": {},
     "output_type": "execute_result"
    }
   ],
   "source": [
    "pwd"
   ]
  },
  {
   "cell_type": "code",
   "execution_count": null,
   "metadata": {},
   "outputs": [],
   "source": []
  }
 ],
 "metadata": {
  "kernelspec": {
   "display_name": "Python 3",
   "language": "python",
   "name": "python3"
  },
  "language_info": {
   "codemirror_mode": {
    "name": "ipython",
    "version": 3
   },
   "file_extension": ".py",
   "mimetype": "text/x-python",
   "name": "python",
   "nbconvert_exporter": "python",
   "pygments_lexer": "ipython3",
   "version": "3.7.4"
  }
 },
 "nbformat": 4,
 "nbformat_minor": 2
}
