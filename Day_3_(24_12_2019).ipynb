{
  "nbformat": 4,
  "nbformat_minor": 0,
  "metadata": {
    "colab": {
      "name": "Day 3-(24/12/2019).ipynb",
      "provenance": []
    },
    "kernelspec": {
      "name": "python3",
      "display_name": "Python 3"
    }
  },
  "cells": [
    {
      "cell_type": "code",
      "metadata": {
        "id": "x9QuE-XqYUrk",
        "colab_type": "code",
        "colab": {}
      },
      "source": [
        ""
      ],
      "execution_count": 0,
      "outputs": []
    },
    {
      "cell_type": "markdown",
      "metadata": {
        "id": "vyLaawHwYYMm",
        "colab_type": "text"
      },
      "source": [
        "#python programming\n",
        "## python programming\n",
        "### python programming\n",
        "#### python programming\n",
        "##### python prigramming"
      ]
    },
    {
      "cell_type": "markdown",
      "metadata": {
        "id": "PqRB8P5cZve4",
        "colab_type": "text"
      },
      "source": [
        "1. a\n",
        "2. b\n",
        "3. c \n",
        "  1. d\n",
        "  2. e\n",
        "  3. f"
      ]
    },
    {
      "cell_type": "markdown",
      "metadata": {
        "id": "gzrRMvRsbbMU",
        "colab_type": "text"
      },
      "source": [
        "[python](https://www.google.com/search?q=google&rlz=1C1AVFC_enIN787IN787&oq=google+&aqs=chrome..69i59l2j69i57j69i60l3.7313j0j8&sourceid=chrome&ie=UTF-8)\n"
      ]
    },
    {
      "cell_type": "markdown",
      "metadata": {
        "id": "_3dcR75RcpOh",
        "colab_type": "text"
      },
      "source": [
        "![image of goku](https://images-na.ssl-images-amazon.com/images/I/71om4dFYpdL._SY879_.jpg)"
      ]
    },
    {
      "cell_type": "markdown",
      "metadata": {
        "id": "8CmgUlLudrAR",
        "colab_type": "text"
      },
      "source": [
        "- abc\n",
        "- def"
      ]
    },
    {
      "cell_type": "code",
      "metadata": {
        "id": "afMoR2jxjCy-",
        "colab_type": "code",
        "outputId": "2cbb005e-9cee-4e0b-8612-44c3f230f8a6",
        "colab": {
          "base_uri": "https://localhost:8080/",
          "height": 34
        }
      },
      "source": [
        "print(\"hello world\")"
      ],
      "execution_count": 0,
      "outputs": [
        {
          "output_type": "stream",
          "text": [
            "hello world\n"
          ],
          "name": "stdout"
        }
      ]
    },
    {
      "cell_type": "code",
      "metadata": {
        "id": "Pwzrh3f2jYn-",
        "colab_type": "code",
        "outputId": "55c859ca-582d-4a06-935b-fca24455ccd3",
        "colab": {
          "base_uri": "https://localhost:8080/",
          "height": 34
        }
      },
      "source": [
        "a=10.2\n",
        "b=20\n",
        "print(type(a),type(b))"
      ],
      "execution_count": 0,
      "outputs": [
        {
          "output_type": "stream",
          "text": [
            "<class 'float'> <class 'int'>\n"
          ],
          "name": "stdout"
        }
      ]
    },
    {
      "cell_type": "code",
      "metadata": {
        "id": "NWo7BZaRjqbP",
        "colab_type": "code",
        "outputId": "bd37efc5-f23a-4235-8ad7-7beef67211fa",
        "colab": {
          "base_uri": "https://localhost:8080/",
          "height": 67
        }
      },
      "source": [
        "a=int (input(\"enter a value\"))\n",
        "b=int (input(\"enter b value\"))\n",
        "print(a+b)"
      ],
      "execution_count": 0,
      "outputs": [
        {
          "output_type": "stream",
          "text": [
            "enter a value10\n",
            "enter b value20\n",
            "30\n"
          ],
          "name": "stdout"
        }
      ]
    },
    {
      "cell_type": "code",
      "metadata": {
        "id": "wJPR8heTle87",
        "colab_type": "code",
        "outputId": "fc588a6a-30dd-4b8e-9579-2d6972568128",
        "colab": {
          "base_uri": "https://localhost:8080/",
          "height": 67
        }
      },
      "source": [
        "name=input(\"enter name\")\n",
        "age=int(input(\"enter age\"))\n",
        "print(\"my name is \",name,end=\" \")\n",
        "print(\"and age is\",age)"
      ],
      "execution_count": 0,
      "outputs": [
        {
          "output_type": "stream",
          "text": [
            "enter namesandeep\n",
            "enter age20\n",
            "my name is  sandeep and age is 20\n"
          ],
          "name": "stdout"
        }
      ]
    },
    {
      "cell_type": "code",
      "metadata": {
        "id": "cAMZqBWLpcEs",
        "colab_type": "code",
        "outputId": "3ca3b0ac-376c-4a45-cc87-fed54b74d187",
        "colab": {
          "base_uri": "https://localhost:8080/",
          "height": 235
        }
      },
      "source": [
        "help(\"keywords\")"
      ],
      "execution_count": 0,
      "outputs": [
        {
          "output_type": "stream",
          "text": [
            "\n",
            "Here is a list of the Python keywords.  Enter any keyword to get more help.\n",
            "\n",
            "False               def                 if                  raise\n",
            "None                del                 import              return\n",
            "True                elif                in                  try\n",
            "and                 else                is                  while\n",
            "as                  except              lambda              with\n",
            "assert              finally             nonlocal            yield\n",
            "break               for                 not                 \n",
            "class               from                or                  \n",
            "continue            global              pass                \n",
            "\n"
          ],
          "name": "stdout"
        }
      ]
    },
    {
      "cell_type": "code",
      "metadata": {
        "id": "1Vd59Nj6qjFZ",
        "colab_type": "code",
        "colab": {}
      },
      "source": [
        ""
      ],
      "execution_count": 0,
      "outputs": []
    }
  ]
}